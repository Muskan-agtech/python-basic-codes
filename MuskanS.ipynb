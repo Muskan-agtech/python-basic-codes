{
 "cells": [
  {
   "cell_type": "markdown",
   "id": "2bf9cab0",
   "metadata": {},
   "source": [
    "# Introduction & Features of Python\n",
    "Python is a General Purpose object-oriented programming language, which means that it can model real-world entities. It is also dynamically-typed because it carries out type-checking at runtime.\n",
    "\n",
    "### Python Features\n",
    "1. Easy </br>\n",
    "    Python is very easy to learn and understand; any beginner can learn Python easily. When writing code in Python, you need fewer lines of code compared to languages like Java.\n",
    "\n",
    "2. Interpreted </br>\n",
    "    It is interpreted(executed) line by line. This makes it easy to test and debug.\n",
    "\n",
    "3. Object-Oriented </br>\n",
    "    The Python programming language supports classes and objects and hence it is object-oriented.\n",
    "4. Free and Open Source </br>\n",
    "    The language and its source code are available to the public for free; there is no need to buy a costly license.\n",
    "5. Large Python Library </br>\n",
    "    Python provides you with a large standard library.\n",
    "\n",
    "### What can python do\n",
    "1. Python can be used on a server to create web applications.\n",
    "2. To Perform small scripting tasks alongside software to create workflows.\n",
    "3. Python can connect to database systems. It can also read and modify files.\n",
    "4. Python can be used to automate various tasks\n",
    "\n",
    "### Installation\n",
    "Check the download page of python for instalation and other configuration instruction https://www.python.org/downloads/\n",
    "\n",
    "### Variable and Data Types in Python\n",
    "A variable is a container for a value. It can be assigned a name, you can use it to refer to it later in the program.\n",
    "Based on the value assigned, the interpreter decides its data type. You can always store a different type in a variable.\n",
    "For example, if you store 10 in a variable, later, you can store 'Hello World'.\n",
    "\n",
    "### Rules for defining variables in python\n",
    "1. Python variables can only begin with a letter(A-Z/a-z) or an underscore(_).\n",
    "2. The rest of the identifier may contain letters(A-Z/a-z), underscores(_), and numbers(0-9).\n",
    "3. Python is case-sensitive, and so are Python identifiers. Name and name are two different identifiers.\n",
    "\n",
    "\n",
    "### Commonly used basic python functions\n",
    "\n",
    "1. print\n",
    "2. input\n",
    "3. type\n",
    "4. len\n",
    "5. sum"
   ]
  },
  {
   "cell_type": "code",
   "execution_count": null,
   "id": "5cafdb05",
   "metadata": {},
   "outputs": [],
   "source": []
  },
  {
   "cell_type": "markdown",
   "id": "e436dd68",
   "metadata": {},
   "source": [
    "## Variables and Data Types\n"
   ]
  },
  {
   "cell_type": "markdown",
   "id": "bf40b4c5",
   "metadata": {},
   "source": [
    "**Q: Assign your name to the variable `name`.**"
   ]
  },
  {
   "cell_type": "code",
   "execution_count": 1,
   "id": "4ed8652c",
   "metadata": {},
   "outputs": [
    {
     "name": "stdout",
     "output_type": "stream",
     "text": [
      "My name is muskan sharma\n"
     ]
    }
   ],
   "source": [
    "x=\"muskan sharma\"\n",
    "print(\"My name is\",x)"
   ]
  },
  {
   "cell_type": "markdown",
   "id": "4b2966a6",
   "metadata": {},
   "source": [
    "**Q: Assign your age (real or fake) to the variable `age`.**"
   ]
  },
  {
   "cell_type": "code",
   "execution_count": 2,
   "id": "2381ace7",
   "metadata": {},
   "outputs": [
    {
     "name": "stdout",
     "output_type": "stream",
     "text": [
      "Age= 22\n"
     ]
    }
   ],
   "source": [
    "age=22\n",
    "print(\"Age=\",age)"
   ]
  },
  {
   "cell_type": "markdown",
   "id": "4d3766c6",
   "metadata": {},
   "source": [
    "**Q: Assign a boolean value to the variable `has_android_phone`.**"
   ]
  },
  {
   "cell_type": "code",
   "execution_count": 4,
   "id": "c5ddc6f7",
   "metadata": {},
   "outputs": [
    {
     "name": "stdout",
     "output_type": "stream",
     "text": [
      "True\n"
     ]
    }
   ],
   "source": [
    "has_android_phone=\"NOKIA\"\n",
    "print(bool(has_android_phone))"
   ]
  },
  {
   "cell_type": "markdown",
   "id": "9662d1de",
   "metadata": {},
   "source": [
    "**Q: Print a sentence with the help of the variables created above.**"
   ]
  },
  {
   "cell_type": "code",
   "execution_count": 6,
   "id": "b8af5644",
   "metadata": {},
   "outputs": [
    {
     "name": "stdout",
     "output_type": "stream",
     "text": [
      "Address: I am fromm Bhilwara\n"
     ]
    }
   ],
   "source": [
    "About=\"I am fromm Bhilwara\"\n",
    "print(\"Address:\",About)"
   ]
  },
  {
   "cell_type": "markdown",
   "id": "bd112cbf",
   "metadata": {},
   "source": [
    "**Q: Create two variables, say a and b**\n",
    "</br>\n",
    "**Add the values of a and b and print the output**"
   ]
  },
  {
   "cell_type": "code",
   "execution_count": 7,
   "id": "8b8d80b5",
   "metadata": {},
   "outputs": [
    {
     "name": "stdout",
     "output_type": "stream",
     "text": [
      "30\n"
     ]
    }
   ],
   "source": [
    "a=10\n",
    "b=20\n",
    "c=a+b\n",
    "print(c)"
   ]
  },
  {
   "cell_type": "markdown",
   "id": "280128c3",
   "metadata": {},
   "source": [
    "**Q: Create two variables, say a and b**\n",
    "</br>\n",
    "**Check if the values of those two values are equal**"
   ]
  },
  {
   "cell_type": "code",
   "execution_count": 8,
   "id": "deec8bbb",
   "metadata": {},
   "outputs": [
    {
     "name": "stdout",
     "output_type": "stream",
     "text": [
      "Not Equal\n"
     ]
    }
   ],
   "source": [
    "a=10\n",
    "b=20\n",
    "if a==b:\n",
    "    print(\"Both are equal\")\n",
    "else:\n",
    "    print(\"Not Equal\")"
   ]
  },
  {
   "cell_type": "markdown",
   "id": "5f9fd542",
   "metadata": {},
   "source": [
    "**Q: Take an input from user**\n",
    "</br>\n",
    "**Store that input in a variable var1**\n",
    "</br>\n",
    "**Print the data type of the input provided by the user**"
   ]
  },
  {
   "cell_type": "code",
   "execution_count": 1,
   "id": "e4e6d1c7",
   "metadata": {},
   "outputs": [
    {
     "name": "stdout",
     "output_type": "stream",
     "text": [
      "Enter the value\n",
      "6\n",
      "<class 'str'>\n"
     ]
    }
   ],
   "source": [
    "print(\"Enter the value\")\n",
    "var1=input()\n",
    "print(type(var1))"
   ]
  },
  {
   "cell_type": "markdown",
   "id": "10dace42",
   "metadata": {},
   "source": [
    "**Q: Take an input from user**\n",
    "</br>\n",
    "**Store that input in a variable var1**\n",
    "</br>\n",
    "**Check if the input is integer if not then print warning**\n",
    "</br>\n",
    "**If the input is integer then print if the number is even or odd**"
   ]
  },
  {
   "cell_type": "code",
   "execution_count": 4,
   "id": "23836d54",
   "metadata": {},
   "outputs": [
    {
     "name": "stdout",
     "output_type": "stream",
     "text": [
      "Enter the value12\n",
      "<class 'int'>\n",
      "num is even\n"
     ]
    }
   ],
   "source": [
    "var1=int(input(\"Enter the value\"))\n",
    "print(type(var1))\n",
    "if type(var1)==int:\n",
    "    if var1%2==0:\n",
    "        print(\"num is even\")\n",
    "    else:\n",
    "        print(\"Odd\")\n",
    "else:\n",
    "    print(\"Danger\")"
   ]
  },
  {
   "cell_type": "code",
   "execution_count": null,
   "id": "49fd8a29",
   "metadata": {},
   "outputs": [],
   "source": []
  },
  {
   "cell_type": "code",
   "execution_count": null,
   "id": "7d778ed6",
   "metadata": {},
   "outputs": [],
   "source": []
  }
 ],
 "metadata": {
  "kernelspec": {
   "display_name": "Python 3 (ipykernel)",
   "language": "python",
   "name": "python3"
  },
  "language_info": {
   "codemirror_mode": {
    "name": "ipython",
    "version": 3
   },
   "file_extension": ".py",
   "mimetype": "text/x-python",
   "name": "python",
   "nbconvert_exporter": "python",
   "pygments_lexer": "ipython3",
   "version": "3.10.5"
  }
 },
 "nbformat": 4,
 "nbformat_minor": 5
}
